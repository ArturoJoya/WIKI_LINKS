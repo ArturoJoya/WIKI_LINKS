{
 "cells": [
  {
   "cell_type": "markdown",
   "metadata": {},
   "source": [
    "# Algorithm Performance on the Wikipedia Game\n",
    "## Collaborative Deep Dive\n",
    "Arturo Joya, Kat Canavan, Joseph Gilbert"
   ]
  },
  {
   "cell_type": "markdown",
   "metadata": {},
   "source": [
    "## Introduction\n",
    "\n",
    "This notebook is written to visualize the performance differences (if any) of the Breadth First Search, and Djikstras algorithm on our subset of Wikipedia articles.\n",
    "\n",
    "In summary, we have scraped a portion of Wikipedia to generate a collection of edges for a directional graph that encompasses the connections from one Wikipedia article to another via embedded links. Here we are running a couple shortest path algorithms that take in the edges, an origin vertex, and a destination vertex. For our performance test, we will be subjecting the shortest path algorithms to 1000 randomly chosen origins and destinations - note that we will use the same 1000 origins and desitnations between the two algorithms. We will be measuring how long it takes for each algorithm to find the shortest path and comparing the performance based on degree-runtime, as well as comparing which algorithm found the shortest paths. This should allow us to gain a better understanding on what algorithm is best suited for this task"
   ]
  },
  {
   "cell_type": "code",
   "execution_count": null,
   "metadata": {},
   "outputs": [],
   "source": []
  }
 ],
 "metadata": {
  "language_info": {
   "name": "python"
  }
 },
 "nbformat": 4,
 "nbformat_minor": 2
}
