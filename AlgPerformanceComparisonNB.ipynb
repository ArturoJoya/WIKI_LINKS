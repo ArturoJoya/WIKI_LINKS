{
 "cells": [
  {
   "cell_type": "markdown",
   "metadata": {},
   "source": [
    "# Algorithm Performance on the Wikipedia Game\n",
    "## Collaborative Deep Dive\n",
    "Arturo Joya, Kat Canavan, Joseph Gilbert"
   ]
  },
  {
   "cell_type": "markdown",
   "metadata": {},
   "source": [
    "## Introduction\n",
    "\n",
    "This notebook is written to visualize the performance differences (if any) of the Breadth First Search, and Djikstras algorithm on our subset of Wikipedia articles.\n",
    "\n",
    "In summary, we have scraped a portion of Wikipedia to generate a collection of edges for a directional graph that encompasses the connections from one Wikipedia article to another via embedded links. Here we are running a couple shortest path algorithms that take in the edges, an origin vertex, and a destination vertex. For our performance test, we will be subjecting the shortest path algorithms to 1000 randomly chosen origins and destinations - note that we will use the same 1000 origins and desitnations between the two algorithms. We will be measuring how long it takes for each algorithm to find the shortest path and comparing the performance based on degree-runtime, as well as comparing which algorithm found the shortest paths. This should allow us to gain a better understanding on what algorithm is best suited for this task"
   ]
  },
  {
   "cell_type": "code",
   "execution_count": null,
   "metadata": {},
   "outputs": [],
   "source": [
    "#Import relevant libraries\n",
    "import numpy as np\n",
    "import matplotlib.pyplot as plt\n",
    "import csv\n",
    "import itertools"
   ]
  },
  {
   "cell_type": "code",
   "execution_count": null,
   "metadata": {},
   "outputs": [],
   "source": [
    "origin = \"/wiki/Discrete_mathematics\"\n",
    "destination = \"/wiki/National_Council_of_Examiners_for_Engineering_and_Surveying\"\n",
    "\n",
    "# TODO run an example of Breadth First Algrorithm - Show Path"
   ]
  },
  {
   "cell_type": "code",
   "execution_count": null,
   "metadata": {},
   "outputs": [],
   "source": [
    "# TODO run an example of Dijkstra's Algorithm - Show Path"
   ]
  },
  {
   "cell_type": "markdown",
   "metadata": {},
   "source": [
    "We can see a difference in performance, but this is only just a single example. Now we should test this with some different origins and destinations. We have already created a _thing_ with _xxx_ randomly chosen origins and destinations that we will be feeding into the algorithms. Since this is a very computationally expensive task, we have pre-run the operation and have stored the values of interest (runtime and length of shortest path) in a csv that we can extract our data from and apply some statistics."
   ]
  },
  {
   "cell_type": "code",
   "execution_count": null,
   "metadata": {},
   "outputs": [],
   "source": [
    "# TODO extract csv data into lists that we can plot\n",
    "\n",
    "#BDS Stats\n",
    "bds_runtime = []\n",
    "bds_degrees = []\n",
    "\n",
    "#csv reading code borrowed from pythonspot.com\n",
    "with open('bds_data.csv', 'r') as f:\n",
    "    reader = csv.reader(f)\n",
    "    row_number = 0\n",
    "    for row in reader:\n",
    "        if row_number != 0:\n",
    "            bds_runtime.append(row[1])\n",
    "            bds_degrees.append(row[0])\n",
    "        row_number += 1\n",
    "\n",
    "#Djikstra's Stats\n",
    "djk_runtime = []\n",
    "djk_degrees = []\n",
    "\n",
    "with open('djk_data.csv', 'r') as f:\n",
    "    reader = csv.reader(f)\n",
    "    row_number = 0\n",
    "    for row in reader:\n",
    "        if row_number != 0:\n",
    "            djk_runtime.append(row[1])\n",
    "            djk_degrees.append(row[0])\n",
    "        row_number += 1"
   ]
  },
  {
   "cell_type": "code",
   "execution_count": null,
   "metadata": {},
   "outputs": [],
   "source": [
    "# TODO perform quick statistics to find runtime mean and standard deviation per degrees\n",
    "\n",
    "#Separate runtimes based on the degree of path it ocurred in\n",
    "\n",
    "bds_runtime_deg1 = []\n",
    "bds_runtime_deg2 = []\n",
    "bds_runtime_deg3 = []\n",
    "bds_runtime_deg4 = []\n",
    "bds_runtime_deg5 = []\n",
    "bds_runtime_deg6 = []\n",
    "\n",
    "for i in len(bds_runtime):\n",
    "    if bds_degrees[i] == 1:\n",
    "        bds_runtime_deg1.append(bds_runtime[i])\n",
    "    if bds_degrees[i] == 2:\n",
    "        bds_runtime_deg2.append(bds_runtime[i])\n",
    "    if bds_degrees[i] == 3:\n",
    "        bds_runtime_deg3.append(bds_runtime[i])\n",
    "    if bds_degrees[i] == 4:\n",
    "        bds_runtime_deg4.append(bds_runtime[i])\n",
    "    if bds_degrees[i] == 5:\n",
    "        bds_runtime_deg5.append(bds_runtime[i])\n",
    "    if bds_degrees[i] == 6:\n",
    "        bds_runtime_deg6.append(bds_runtime[i])\n",
    "\n",
    "\n",
    "djk_runtime_deg1 = []\n",
    "djk_runtime_deg2 = []\n",
    "djk_runtime_deg3 = []\n",
    "djk_runtime_deg4 = []\n",
    "djk_runtime_deg5 = []\n",
    "djk_runtime_deg6 = []\n",
    "\n",
    "for i in len(djk_runtime):\n",
    "    if djk_degrees[i] == 1:\n",
    "        djk_runtime_deg1.append(djk_runtime[i])\n",
    "    if djk_degrees[i] == 2:\n",
    "        djk_runtime_deg2.append(djk_runtime[i])\n",
    "    if djk_degrees[i] == 3:\n",
    "        djk_runtime_deg3.append(djk_runtime[i])\n",
    "    if djk_degrees[i] == 4:\n",
    "        djk_runtime_deg4.append(djk_runtime[i])\n",
    "    if djk_degrees[i] == 5:\n",
    "        djk_runtime_deg5.append(djk_runtime[i])\n",
    "    if djk_degrees[i] == 6:\n",
    "        djk_runtime_deg6.append(djk_runtime[i])\n",
    "\n",
    "# Find the Mean and Standard deviations\n",
    "\n",
    "#bds\n",
    "bds_deg1_mean = np.mean(bds_runtime_deg1)\n",
    "bds_deg2_mean = np.mean(bds_runtime_deg2)\n",
    "bds_deg3_mean = np.mean(bds_runtime_deg3)\n",
    "bds_deg4_mean = np.mean(bds_runtime_deg4)\n",
    "bds_deg5_mean = np.mean(bds_runtime_deg5)\n",
    "bds_deg6_mean = np.mean(bds_runtime_deg6)\n",
    "\n",
    "bds_deg1_std = np.std(bds_runtime_deg1)\n",
    "bds_deg2_std = np.std(bds_runtime_deg2)\n",
    "bds_deg3_std = np.std(bds_runtime_deg3)\n",
    "bds_deg4_std = np.std(bds_runtime_deg4)\n",
    "bds_deg5_std = np.std(bds_runtime_deg5)\n",
    "bds_deg6_std = np.std(bds_runtime_deg6)\n",
    "\n",
    "#djikstra\n",
    "djk_deg1_mean = np.mean(djk_runtime_deg1)\n",
    "djk_deg2_mean = np.mean(djk_runtime_deg2)\n",
    "djk_deg3_mean = np.mean(djk_runtime_deg3)\n",
    "djk_deg4_mean = np.mean(djk_runtime_deg4)\n",
    "djk_deg5_mean = np.mean(djk_runtime_deg5)\n",
    "djk_deg6_mean = np.mean(djk_runtime_deg6)\n",
    "\n",
    "djk_deg1_std = np.std(djk_runtime_deg1)\n",
    "djk_deg2_std = np.std(djk_runtime_deg2)\n",
    "djk_deg3_std = np.std(djk_runtime_deg3)\n",
    "djk_deg4_std = np.std(djk_runtime_deg4)\n",
    "djk_deg5_std = np.std(djk_runtime_deg5)\n",
    "djk_deg6_std = np.std(djk_runtime_deg6)"
   ]
  },
  {
   "cell_type": "code",
   "execution_count": null,
   "metadata": {},
   "outputs": [],
   "source": [
    "#Show BDS Figure\n",
    "\n",
    "plt.figure() #initialize the figure\n",
    "plt.ylabel(\"Runtime (seconds)\") # adds a Y label\n",
    "plt.xlabel(\"Length of Shortest Path\")\n",
    "#plt.xticks([]) # we are getting rid of the xaxis for now\n",
    "\n",
    "plt.errorbar(0, bds_deg1_mean, yerr= bds_deg1_std, fmt='--o', color='blue')\n",
    "plt.errorbar(1, bds_deg2_mean, yerr= bds_deg2_std, fmt='--o', color='blue')\n",
    "plt.errorbar(2, bds_deg3_mean, yerr= bds_deg3_std, fmt='--o', color='blue')\n",
    "plt.errorbar(3, bds_deg4_mean, yerr= bds_deg4_std, fmt='--o', color='blue')\n",
    "plt.errorbar(4, bds_deg5_mean, yerr= bds_deg5_std ,fmt='--o', color='blue')\n",
    "plt.errorbar(5, bds_deg6_mean, yerr= bds_deg6_std, fmt='--o', color='blue')"
   ]
  },
  {
   "cell_type": "code",
   "execution_count": null,
   "metadata": {},
   "outputs": [],
   "source": [
    "#Show Djikstra Figure\n",
    "\n",
    "plt.figure() #initialize the figure\n",
    "plt.ylabel(\"Runtime (seconds)\") # adds a Y label\n",
    "plt.xlabel(\"Length of Shortest Path\")\n",
    "#plt.xticks([]) # we are getting rid of the xaxis for now\n",
    "\n",
    "plt.errorbar(0, djk_deg1_mean, yerr= djk_deg1_std, fmt='--o', color='red')\n",
    "plt.errorbar(1, djk_deg2_mean, yerr= djk_deg2_std, fmt='--o', color='red')\n",
    "plt.errorbar(2, djk_deg3_mean, yerr= djk_deg3_std, fmt='--o', color='red')\n",
    "plt.errorbar(3, djk_deg4_mean, yerr= djk_deg4_std, fmt='--o', color='red')\n",
    "plt.errorbar(4, djk_deg5_mean, yerr= djk_deg5_std ,fmt='--o', color='red')\n",
    "plt.errorbar(5, djk_deg6_mean, yerr= djk_deg6_std, fmt='--o', color='red')"
   ]
  },
  {
   "cell_type": "code",
   "execution_count": null,
   "metadata": {},
   "outputs": [],
   "source": [
    "#Show Combined Figure\n",
    "\n",
    "plt.figure() #initialize the figure\n",
    "plt.ylabel(\"Runtime (seconds)\") # adds a Y label\n",
    "plt.xlabel(\"Length of Shortest Path\")\n",
    "#plt.xticks([]) # we are getting rid of the xaxis for now\n",
    "\n",
    "plt.errorbar(0, bds_deg1_mean, yerr= bds_deg1_std, fmt='--o', color='blue')\n",
    "plt.errorbar(1, bds_deg2_mean, yerr= bds_deg2_std, fmt='--o', color='blue')\n",
    "plt.errorbar(2, bds_deg3_mean, yerr= bds_deg3_std, fmt='--o', color='blue')\n",
    "plt.errorbar(3, bds_deg4_mean, yerr= bds_deg4_std, fmt='--o', color='blue')\n",
    "plt.errorbar(4, bds_deg5_mean, yerr= bds_deg5_std ,fmt='--o', color='blue')\n",
    "plt.errorbar(5, bds_deg6_mean, yerr= bds_deg6_std, fmt='--o', color='blue')\n",
    "\n",
    "plt.errorbar(0, djk_deg1_mean, yerr= djk_deg1_std, fmt='--o', color='red')\n",
    "plt.errorbar(1, djk_deg2_mean, yerr= djk_deg2_std, fmt='--o', color='red')\n",
    "plt.errorbar(2, djk_deg3_mean, yerr= djk_deg3_std, fmt='--o', color='red')\n",
    "plt.errorbar(3, djk_deg4_mean, yerr= djk_deg4_std, fmt='--o', color='red')\n",
    "plt.errorbar(4, djk_deg5_mean, yerr= djk_deg5_std ,fmt='--o', color='red')\n",
    "plt.errorbar(5, djk_deg6_mean, yerr= djk_deg6_std, fmt='--o', color='red')"
   ]
  }
 ],
 "metadata": {
  "kernelspec": {
   "display_name": "Python 3",
   "language": "python",
   "name": "python3"
  },
  "language_info": {
   "name": "python",
   "version": "3.10.11"
  }
 },
 "nbformat": 4,
 "nbformat_minor": 2
}
