{
 "cells": [
  {
   "cell_type": "markdown",
   "metadata": {},
   "source": [
    "# Algorithm Performance on the Wikipedia Game\n",
    "## Collaborative Deep Dive\n",
    "Arturo Joya, Kat Canavan, Joseph Gilbert"
   ]
  },
  {
   "cell_type": "markdown",
   "metadata": {},
   "source": [
    "## Introduction\n",
    "\n",
    "This notebook is written to visualize the performance of the Breadth First Search algorithm on our subset of Wikipedia articles.\n",
    "\n",
    "In summary, we have scraped a portion of Wikipedia to generate a collection of edges for a directional graph that encompasses the connections from one Wikipedia article to another via embedded links. Here we are running a shortest path algorithm - Breadth First Search - that take in the edges of the graph, an origin vertex, and a destination vertex. For our performance test, we will be subjecting the shortest path algorithm to 10000 randomly chosen origins and destinations. We will be measuring how long it takes the algorithm to find the shortest path and comparing the performance based on path-length to runtime. This should allow us to gain a better understanding on how the algorithm behaves with our little subset.\n",
    "\n",
    "We originally wanted to replicate results achieved with Six Degrees of Wikipedia; however due to time limitations "
   ]
  },
  {
   "cell_type": "code",
   "execution_count": 71,
   "metadata": {},
   "outputs": [],
   "source": [
    "#Import relevant libraries\n",
    "import numpy as np\n",
    "import matplotlib.pyplot as plt\n",
    "import pickle\n",
    "import time\n",
    "\n",
    "#Import Database and Algs\n",
    "from data_storage import dataPickle\n",
    "import sorter as st\n",
    "\n",
    "DATA_FILE = 'wiki_data.pickle'\n",
    "db = dataPickle()"
   ]
  },
  {
   "cell_type": "code",
   "execution_count": 73,
   "metadata": {},
   "outputs": [
    {
     "name": "stdout",
     "output_type": "stream",
     "text": [
      "This Path is only 4 edges long with path {'/wiki/The_Cenotaph,_Whitehall': {'/wiki/King_George_VI_and_Queen_Elizabeth_Memorial'}, '/wiki/Manchester': {'/wiki/The_Cenotaph,_Whitehall'}, '/wiki/The_Guardian': {'/wiki/Manchester'}, '/wiki/Turning_Red': {'/wiki/The_Guardian'}} which took 0.002997159957885742 seconds\n",
      "This Path is only 0 edges long with path {} which took 0.002997159957885742 seconds\n"
     ]
    }
   ],
   "source": [
    "#a couple of random points\n",
    "origin = \"/wiki/Turning_Red\"\n",
    "destination = \"/wiki/King_George_VI_and_Queen_Elizabeth_Memorial\"\n",
    "\n",
    "startTime = time.time()\n",
    "deg1, output1 = st.bfs_fast_rev(db,origin,destination,max_depth=20)\n",
    "#deg1 = len(output1)\n",
    "execTime = (time.time()-startTime)\n",
    "print(f'This Path is only {deg1} edges long with path {output1} which took {execTime} seconds')\n",
    "\n",
    "\n",
    "origin = '/wiki/The_Battle_of_Dorking'\n",
    "destination = '/wiki/Chernobyl_(novel)'\n",
    "\n",
    "startTime2 = time.time()\n",
    "deg1, output1 = st.bfs_fast_rev(db,origin,destination,max_depth=20)\n",
    "if len(output1) == 0:\n",
    "    deg1 = 0\n",
    "#deg1 = len(output1)\n",
    "execTime2 = (time.time()-startTime2)\n",
    "print(f'This Path is only {deg1} edges long with path {output1} which took {execTime} seconds')"
   ]
  },
  {
   "cell_type": "markdown",
   "metadata": {},
   "source": [
    "It's a promising result, but this is only just a single example. Now we should test this with some different origins and destinations. We have already created a pickle file with 10000 randomly chosen origins and destinations that we will be feeding into the algorithm. Since this is a very computationally expensive task, we have pre-run the operation and have stored the values of interest (runtime and length of shortest path) in a csv that we can extract our data from and apply some statistics.\n",
    "\n",
    "If you want to generate your own set of 10000 origins and destinations, modify the `get_lists.py` file and then run the `run_algorithm.py` file. To compile data, we used a max depth of 20 edges `max_depth = 20` to get as complete of a dataset as we found reasonable. Note that gathering this data of the origins and destinations took 4578.696 seconds, or roughly 76.3 minutes."
   ]
  },
  {
   "cell_type": "code",
   "execution_count": 74,
   "metadata": {},
   "outputs": [],
   "source": [
    "with open('wiki_stats_20k.pickle', 'rb') as handle:\n",
    "    bds_degrees, bds_outputs, bds_runtimes = pickle.load(handle)"
   ]
  },
  {
   "cell_type": "markdown",
   "metadata": {},
   "source": [
    "Now that we've loaded in our data, lets separate this data based on the path length, which we have called \"degree\" as in degree of separation. Thus, a path containing only 1 edge is said to have 1 degree of separation. Since we have a maximum depth of 20, we will need to create 20 lists containing the runtimes. In some cases, 20 degrees was not enough, so there w"
   ]
  },
  {
   "cell_type": "code",
   "execution_count": 76,
   "metadata": {},
   "outputs": [],
   "source": [
    "bds_runtime_none = []\n",
    "bds_runtime_deg0_r = []\n",
    "bds_runtime_deg1_r = []\n",
    "bds_runtime_deg2_r = []\n",
    "bds_runtime_deg3_r = []\n",
    "bds_runtime_deg4_r = []\n",
    "bds_runtime_deg5_r = []\n",
    "bds_runtime_deg6_r = []\n",
    "bds_runtime_deg7_r = []\n",
    "bds_runtime_deg8_r = []\n",
    "bds_runtime_deg9_r = []\n",
    "bds_runtime_degX_r = []\n",
    "bds_runtime_degX1_r = []\n",
    "bds_runtime_degX2_r = []\n",
    "bds_runtime_degX3_r = []\n",
    "bds_runtime_degX4_r = []\n",
    "bds_runtime_degX5_r = []\n",
    "bds_runtime_degX6_r = []\n",
    "bds_runtime_degX7_r = []\n",
    "bds_runtime_degX8_r = []\n",
    "bds_runtime_degX9_r = []\n",
    "bds_runtime_deg2X_r = []\n",
    "\n",
    "for i in range(len(bds_runtimes)):\n",
    "    if bds_degrees[i] == 0:\n",
    "        bds_runtime_deg0_r.append(bds_runtimes[i])\n",
    "    if bds_degrees[i] == 1:\n",
    "        bds_runtime_deg1_r.append(bds_runtimes[i])\n",
    "    if bds_degrees[i] == 2:\n",
    "        bds_runtime_deg2_r.append(bds_runtimes[i])\n",
    "    if bds_degrees[i] == 3:\n",
    "        bds_runtime_deg3_r.append(bds_runtimes[i])\n",
    "    if bds_degrees[i] == 4:\n",
    "        bds_runtime_deg4_r.append(bds_runtimes[i])\n",
    "    if bds_degrees[i] == 5:\n",
    "        bds_runtime_deg5_r.append(bds_runtimes[i])\n",
    "    if bds_degrees[i] == 6:\n",
    "        bds_runtime_deg6_r.append(bds_runtimes[i])\n",
    "    if bds_degrees[i] == 7:\n",
    "        bds_runtime_deg7_r.append(bds_runtimes[i])\n",
    "    if bds_degrees[i] == 8:\n",
    "        bds_runtime_deg8_r.append(bds_runtimes[i])\n",
    "    if bds_degrees[i] == 9:\n",
    "        bds_runtime_deg9_r.append(bds_runtimes[i])\n",
    "    if bds_degrees[i] == 10:\n",
    "        bds_runtime_degX_r.append(bds_runtimes[i])\n",
    "    if bds_degrees[i] == 11:\n",
    "        bds_runtime_degX1_r.append(bds_runtimes[i])\n",
    "    if bds_degrees[i] == 12:\n",
    "        bds_runtime_degX2_r.append(bds_runtimes[i])\n",
    "    if bds_degrees[i] == 13:\n",
    "        bds_runtime_degX3_r.append(bds_runtimes[i])\n",
    "    if bds_degrees[i] == 14:\n",
    "        bds_runtime_degX4_r.append(bds_runtimes[i])\n",
    "    if bds_degrees[i] == 15:\n",
    "        bds_runtime_degX5_r.append(bds_runtimes[i])\n",
    "    if bds_degrees[i] == 16:\n",
    "        bds_runtime_degX6_r.append(bds_runtimes[i])\n",
    "    if bds_degrees[i] == 17:\n",
    "        bds_runtime_degX7_r.append(bds_runtimes[i])\n",
    "    if bds_degrees[i] == 18:\n",
    "        bds_runtime_degX8_r.append(bds_runtimes[i])\n",
    "    if bds_degrees[i] == 19:\n",
    "        if len(bds_outputs[i]) != 0:\n",
    "            bds_runtime_degX9_r.append(bds_runtimes[i])\n",
    "        else:\n",
    "            bds_runtime_none.append(bds_runtimes[i])\n",
    "    if bds_degrees[i] == 20:\n",
    "        bds_runtime_deg2X_r.append(bds_runtimes[i]) \n",
    "    #if bds_degrees[i] == 1000000:\n",
    "    #    bds_runtime_none.append(bds_runtimes[i]) "
   ]
  },
  {
   "cell_type": "code",
   "execution_count": null,
   "metadata": {},
   "outputs": [],
   "source": []
  },
  {
   "cell_type": "code",
   "execution_count": 82,
   "metadata": {},
   "outputs": [],
   "source": [
    "bds_none_mean = np.mean(bds_runtime_none)\n",
    "bds_deg0_mean_r = np.mean(bds_runtime_deg0_r)\n",
    "bds_deg1_mean_r = np.mean(bds_runtime_deg1_r)\n",
    "bds_deg2_mean_r = np.mean(bds_runtime_deg2_r)\n",
    "bds_deg3_mean_r = np.mean(bds_runtime_deg3_r)\n",
    "bds_deg4_mean_r = np.mean(bds_runtime_deg4_r)\n",
    "bds_deg5_mean_r = np.mean(bds_runtime_deg5_r)\n",
    "bds_deg6_mean_r = np.mean(bds_runtime_deg6_r)\n",
    "bds_deg7_mean_r = np.mean(bds_runtime_deg7_r)\n",
    "bds_deg8_mean_r = np.mean(bds_runtime_deg8_r)\n",
    "bds_deg9_mean_r = np.mean(bds_runtime_deg9_r)\n",
    "bds_degX_mean_r = np.mean(bds_runtime_degX_r)\n",
    "bds_degX1_mean_r = np.mean(bds_runtime_degX1_r)\n",
    "bds_degX2_mean_r = np.mean(bds_runtime_degX2_r)\n",
    "bds_degX3_mean_r = np.mean(bds_runtime_degX3_r)\n",
    "bds_degX4_mean_r = np.mean(bds_runtime_degX4_r)\n",
    "bds_degX5_mean_r = np.mean(bds_runtime_degX5_r)\n",
    "bds_degX6_mean_r = np.mean(bds_runtime_degX6_r)\n",
    "bds_degX7_mean_r = np.mean(bds_runtime_degX7_r)\n",
    "bds_degX8_mean_r = np.mean(bds_runtime_degX8_r)\n",
    "bds_degX9_mean_r = np.mean(bds_runtime_degX9_r)\n",
    "bds_deg2X_mean_r = np.mean(bds_runtime_deg2X_r)\n",
    "\n",
    "bds_none_std = np.std(bds_runtime_none)\n",
    "bds_deg0_std_r = np.std(bds_runtime_deg0_r)\n",
    "bds_deg1_std_r = np.std(bds_runtime_deg1_r)\n",
    "bds_deg2_std_r = np.std(bds_runtime_deg2_r)\n",
    "bds_deg3_std_r = np.std(bds_runtime_deg3_r)\n",
    "bds_deg4_std_r = np.std(bds_runtime_deg4_r)\n",
    "bds_deg5_std_r = np.std(bds_runtime_deg5_r)\n",
    "bds_deg6_std_r = np.std(bds_runtime_deg6_r)\n",
    "bds_deg7_std_r = np.std(bds_runtime_deg7_r)\n",
    "bds_deg8_std_r = np.std(bds_runtime_deg8_r)\n",
    "bds_deg9_std_r = np.std(bds_runtime_deg9_r)\n",
    "bds_degX_std_r = np.std(bds_runtime_degX_r)\n",
    "bds_degX1_std_r = np.std(bds_runtime_degX1_r)\n",
    "bds_degX2_std_r = np.std(bds_runtime_degX2_r)\n",
    "bds_degX3_std_r = np.std(bds_runtime_degX3_r)\n",
    "bds_degX4_std_r = np.std(bds_runtime_degX4_r)\n",
    "bds_degX5_std_r = np.std(bds_runtime_degX5_r)\n",
    "bds_degX6_std_r = np.std(bds_runtime_degX6_r)\n",
    "bds_degX7_std_r = np.std(bds_runtime_degX7_r)\n",
    "bds_degX8_std_r = np.std(bds_runtime_degX8_r)\n",
    "bds_degX9_std_r = np.std(bds_runtime_degX9_r)\n",
    "bds_deg2X_std_r = np.std(bds_runtime_deg2X_r)"
   ]
  },
  {
   "cell_type": "markdown",
   "metadata": {},
   "source": [
    "Now "
   ]
  },
  {
   "cell_type": "code",
   "execution_count": 84,
   "metadata": {},
   "outputs": [
    {
     "data": {
      "text/plain": [
       "<ErrorbarContainer object of 3 artists>"
      ]
     },
     "execution_count": 84,
     "metadata": {},
     "output_type": "execute_result"
    },
    {
     "data": {
      "image/png": "[encoded data removed]",
      "text/plain": [
       "<Figure size 640x480 with 1 Axes>"
      ]
     },
     "metadata": {},
     "output_type": "display_data"
    }
   ],
   "source": [
    "plt.figure() #initialize the figure\n",
    "plt.ylabel(\"Runtime (seconds)\") # adds a Y label\n",
    "plt.xlabel(\"Length of Shortest Path(edges)\")\n",
    "plt.title(\"Length vs Runtime\")\n",
    "plt.grid(True)\n",
    "plt.ylim(0,3)\n",
    "\n",
    "plt.errorbar(0, bds_deg0_mean_r, yerr= bds_deg0_std_r, fmt='--o', color='blue')\n",
    "plt.errorbar(1, bds_deg1_mean_r, yerr= bds_deg1_std_r, fmt='--o', color='blue')\n",
    "plt.errorbar(2, bds_deg2_mean_r, yerr= bds_deg2_std_r, fmt='--o', color='blue')\n",
    "plt.errorbar(3, bds_deg3_mean_r, yerr= bds_deg3_std_r, fmt='--o', color='blue')\n",
    "plt.errorbar(4, bds_deg4_mean_r, yerr= bds_deg4_std_r, fmt='--o', color='blue')\n",
    "plt.errorbar(5, bds_deg5_mean_r, yerr= bds_deg5_std_r ,fmt='--o', color='blue')\n",
    "plt.errorbar(6, bds_deg6_mean_r, yerr= bds_deg6_std_r, fmt='--o', color='blue')\n",
    "plt.errorbar(7, bds_deg7_mean_r, yerr= bds_deg7_std_r, fmt='--o', color='blue')\n",
    "plt.errorbar(8, bds_deg8_mean_r, yerr= bds_deg8_std_r, fmt='--o', color='blue')\n",
    "plt.errorbar(9, bds_deg9_mean_r, yerr= bds_deg9_std_r, fmt='--o', color='blue')\n",
    "plt.errorbar(10, bds_degX_mean_r, yerr= bds_degX_std_r, fmt='--o', color='blue')\n",
    "plt.errorbar(11, bds_degX1_mean_r, yerr= bds_degX1_std_r, fmt='--o', color='blue')\n",
    "plt.errorbar(12, bds_degX2_mean_r, yerr= bds_degX2_std_r, fmt='--o', color='blue')\n",
    "plt.errorbar(13, bds_degX3_mean_r, yerr= bds_degX3_std_r, fmt='--o', color='blue')\n",
    "plt.errorbar(14, bds_degX4_mean_r, yerr= bds_degX4_std_r, fmt='--o', color='blue')\n",
    "plt.errorbar(15, bds_degX5_mean_r, yerr= bds_degX5_std_r, fmt='--o', color='blue')\n",
    "plt.errorbar(16, bds_degX6_mean_r, yerr= bds_degX6_std_r, fmt='--o', color='blue')\n",
    "plt.errorbar(17, bds_degX7_mean_r, yerr= bds_degX7_std_r, fmt='--o', color='blue')\n",
    "plt.errorbar(18, bds_degX8_mean_r, yerr= bds_degX8_std_r, fmt='--o', color='blue')\n",
    "plt.errorbar(19, bds_degX9_mean_r, yerr= bds_degX9_std_r, fmt='--o', color='blue')\n",
    "plt.errorbar(20, bds_deg2X_mean_r, yerr= bds_deg2X_std_r, fmt='--o', color='blue')\n",
    "plt.errorbar(21, bds_none_mean, yerr= bds_none_std, fmt='--o', color='blue')\n"
   ]
  },
  {
   "cell_type": "code",
   "execution_count": null,
   "metadata": {},
   "outputs": [],
   "source": []
  }
 ],
 "metadata": {
  "kernelspec": {
   "display_name": "Python 3",
   "language": "python",
   "name": "python3"
  },
  "language_info": {
   "codemirror_mode": {
    "name": "ipython",
    "version": 3
   },
   "file_extension": ".py",
   "mimetype": "text/x-python",
   "name": "python",
   "nbconvert_exporter": "python",
   "pygments_lexer": "ipython3",
   "version": "3.10.11"
  }
 },
 "nbformat": 4,
 "nbformat_minor": 2
}
